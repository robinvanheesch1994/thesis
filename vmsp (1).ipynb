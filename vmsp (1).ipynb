{
 "cells": [
  {
   "cell_type": "code",
   "execution_count": 16,
   "metadata": {},
   "outputs": [
    {
     "name": "stdout",
     "output_type": "stream",
     "text": [
      "Note: you may need to restart the kernel to use updated packages.\n"
     ]
    },
    {
     "name": "stderr",
     "output_type": "stream",
     "text": [
      "ERROR: Could not find a version that satisfies the requirement spmf-py (from versions: none)\n",
      "ERROR: No matching distribution found for spmf-py\n"
     ]
    }
   ],
   "source": [
    "pip install spmf-py"
   ]
  },
  {
   "cell_type": "code",
   "execution_count": 15,
   "metadata": {},
   "outputs": [
    {
     "name": "stdout",
     "output_type": "stream",
     "text": [
      ">/C:/Users/robin/Documents/Master DSS/Afstuderen/spmf/spmf.jar\r\n",
      "=============  VMSP v0.97 - STATISTICS =============\n",
      " Total time ~ 874 ms\n",
      " Frequent sequences count : 3\n",
      " Max memory (mb) : 172.874565124511723\n",
      "minsup 9768\n",
      "Intersection count 16 \n",
      "===================================================\n",
      "\r\n",
      "\n",
      "              pattern    sup\n",
      "0           [2, 2, 0]  15629\n",
      "1        [2, 0, 2, 2]   9881\n",
      "2  [2, 2, 2, 2, 2, 2]  10324\n"
     ]
    }
   ],
   "source": [
    "from spmf import Spmf\n",
    "\n",
    "spmf = Spmf(\"VMSP\", input_filename= 'sequences.txt',\n",
    "            output_filename=\"output.txt\", spmf_bin_location_dir='C:/Users/robin/Documents/Master DSS/Afstuderen/spmf', arguments=[0.02, 200, 1, True])\n",
    "spmf.run()\n",
    "print(spmf.to_pandas_dataframe(pickle=True))\n",
    "spmf.to_csv(\"output_vmsp.csv\")"
   ]
  }
 ],
 "metadata": {
  "kernelspec": {
   "display_name": "Python 3",
   "language": "python",
   "name": "python3"
  },
  "language_info": {
   "codemirror_mode": {
    "name": "ipython",
    "version": 3
   },
   "file_extension": ".py",
   "mimetype": "text/x-python",
   "name": "python",
   "nbconvert_exporter": "python",
   "pygments_lexer": "ipython3",
   "version": "3.8.5"
  }
 },
 "nbformat": 4,
 "nbformat_minor": 4
}
