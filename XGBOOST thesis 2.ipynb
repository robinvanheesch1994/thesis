{
 "cells": [
  {
   "cell_type": "code",
   "execution_count": 1,
   "metadata": {},
   "outputs": [],
   "source": [
    "import numpy as np\n",
    "import pandas as pd\n",
    "from sklearn.model_selection import KFold"
   ]
  },
  {
   "cell_type": "markdown",
   "metadata": {},
   "source": [
    "## Prefixspan"
   ]
  },
  {
   "cell_type": "code",
   "execution_count": 54,
   "metadata": {},
   "outputs": [],
   "source": [
    "pfs = pd.read_csv(\"inputprefixspan.csv\")"
   ]
  },
  {
   "cell_type": "markdown",
   "metadata": {},
   "source": [
    "#### Change the column names because XGBoost does not accept [] or ,\n"
   ]
  },
  {
   "cell_type": "code",
   "execution_count": 55,
   "metadata": {},
   "outputs": [],
   "source": [
    "pfs.columns = ['usersession', 'sequences', '2', '22', '222', '2222', '22222', 'target']"
   ]
  },
  {
   "cell_type": "markdown",
   "metadata": {},
   "source": [
    "#### Implementing XGBoost"
   ]
  },
  {
   "cell_type": "code",
   "execution_count": 56,
   "metadata": {},
   "outputs": [],
   "source": [
    "import xgboost as xgb\n",
    "from sklearn.metrics import mean_squared_error\n",
    "from sklearn.utils import resample, shuffle\n",
    "from sklearn.preprocessing import StandardScaler\n",
    "from sklearn.model_selection import train_test_split, GridSearchCV, StratifiedKFold\n",
    "from sklearn.ensemble import RandomForestClassifier, VotingClassifier"
   ]
  },
  {
   "cell_type": "code",
   "execution_count": 132,
   "metadata": {},
   "outputs": [],
   "source": [
    "X1 = pfs.drop(columns = ['target', 'usersession', 'sequences'])\n",
    "y1 = pfs['target']\n",
    "X_train1, X_test1, y_train1, y_test1 = train_test_split(X1, y1, test_size = 0.3, random_state = 0)"
   ]
  },
  {
   "cell_type": "code",
   "execution_count": 133,
   "metadata": {},
   "outputs": [
    {
     "name": "stdout",
     "output_type": "stream",
     "text": [
      "(488374, 5)\n",
      "(488374,)\n"
     ]
    }
   ],
   "source": [
    "print(X1.shape)\n",
    "print(y1.shape)"
   ]
  },
  {
   "cell_type": "code",
   "execution_count": 134,
   "metadata": {},
   "outputs": [],
   "source": [
    "import matplotlib.pyplot as plt"
   ]
  },
  {
   "cell_type": "code",
   "execution_count": 135,
   "metadata": {},
   "outputs": [
    {
     "data": {
      "text/plain": [
       "Text(0, 0.5, 'Frequency')"
      ]
     },
     "execution_count": 135,
     "metadata": {},
     "output_type": "execute_result"
    },
    {
     "data": {
      "image/png": "[encoded data removed]",
      "text/plain": [
       "<Figure size 432x288 with 1 Axes>"
      ]
     },
     "metadata": {},
     "output_type": "display_data"
    }
   ],
   "source": [
    "count_classes = pd.value_counts(y_train1, sort = True)\n",
    "count_classes.plot(kind = 'bar', rot = 0)\n",
    "plt.title('class distribution')\n",
    "plt.xticks(range(2))\n",
    "plt.xlabel('Target')\n",
    "plt.ylabel('Frequency')"
   ]
  },
  {
   "cell_type": "code",
   "execution_count": 136,
   "metadata": {},
   "outputs": [
    {
     "data": {
      "text/plain": [
       "Purchase        15689\n",
       "No-Purchase    326172\n",
       "Name: target, dtype: int64"
      ]
     },
     "execution_count": 136,
     "metadata": {},
     "output_type": "execute_result"
    }
   ],
   "source": [
    "Class = [len(y_train1.loc[y_train1 == 1]), len(y_train1.loc[y_train1 == 0])]\n",
    "pd.Series(Class, index = ['Purchase', 'No-Purchase'], name = 'target')"
   ]
  },
  {
   "cell_type": "code",
   "execution_count": 61,
   "metadata": {},
   "outputs": [],
   "source": [
    "import imblearn\n",
    "from imblearn.under_sampling import RandomUnderSampler"
   ]
  },
  {
   "cell_type": "code",
   "execution_count": 128,
   "metadata": {},
   "outputs": [],
   "source": [
    "undersample = RandomUnderSampler()"
   ]
  },
  {
   "cell_type": "code",
   "execution_count": 129,
   "metadata": {},
   "outputs": [],
   "source": [
    "X_train1, y_train1 = undersample.fit_resample(X_train1, y_train1)"
   ]
  },
  {
   "cell_type": "code",
   "execution_count": 130,
   "metadata": {},
   "outputs": [
    {
     "data": {
      "text/plain": [
       "Purchase       15689\n",
       "No-Purchase    15689\n",
       "Name: target, dtype: int64"
      ]
     },
     "execution_count": 130,
     "metadata": {},
     "output_type": "execute_result"
    }
   ],
   "source": [
    "Class = [len(y_train1.loc[y_train1 == 1]), len(y_train1.loc[y_train1 == 0])]\n",
    "pd.Series(Class, index = ['Purchase', 'No-Purchase'], name = 'target')"
   ]
  },
  {
   "cell_type": "code",
   "execution_count": 131,
   "metadata": {},
   "outputs": [
    {
     "data": {
      "text/plain": [
       "Text(0, 0.5, 'Frequency')"
      ]
     },
     "execution_count": 131,
     "metadata": {},
     "output_type": "execute_result"
    },
    {
     "data": {
      "image/png": "[encoded data removed]",
      "text/plain": [
       "<Figure size 432x288 with 1 Axes>"
      ]
     },
     "metadata": {},
     "output_type": "display_data"
    }
   ],
   "source": [
    "count_classes = pd.value_counts(y_train1, sort = True)\n",
    "count_classes.plot(kind = 'bar', rot = 0)\n",
    "plt.title('class distribution')\n",
    "plt.xticks(range(2))\n",
    "plt.xlabel('Target')\n",
    "plt.ylabel('Frequency')"
   ]
  },
  {
   "cell_type": "code",
   "execution_count": 65,
   "metadata": {},
   "outputs": [],
   "source": [
    "from hyperopt import STATUS_OK, Trials, fmin, hp, tpe\n",
    "from sklearn.metrics import accuracy_score"
   ]
  },
  {
   "cell_type": "code",
   "execution_count": 66,
   "metadata": {},
   "outputs": [],
   "source": [
    "# initialize domain range:\n",
    "space ={'max_depth': hp.quniform(\"max_depth\", 3, 18, 1),\n",
    "        'gamma': hp.uniform ('gamma', 1,9),\n",
    "        'reg_alpha' : hp.quniform('reg_alpha', 40,180,1),\n",
    "        'reg_lambda' : hp.uniform('reg_lambda', 0,1),\n",
    "        'colsample_bytree' : hp.uniform('colsample_bytree', 0.5,1),\n",
    "        'min_child_weight' : hp.quniform('min_child_weight', 0, 10, 1),\n",
    "        'n_estimators': 180,\n",
    "        'seed': 0 \n",
    "    }"
   ]
  },
  {
   "cell_type": "code",
   "execution_count": 67,
   "metadata": {},
   "outputs": [],
   "source": [
    "# define objective function\n",
    "def objective(space):\n",
    "    clf=xgb.XGBClassifier(\n",
    "                    n_estimators =space['n_estimators'], max_depth = int(space['max_depth']), gamma = space['gamma'],\n",
    "                    reg_alpha = int(space['reg_alpha']),min_child_weight=int(space['min_child_weight']),\n",
    "                    colsample_bytree=int(space['colsample_bytree']), use_label_encoder=False)\n",
    "    \n",
    "    evaluation = [( X_train1, y_train1.values.ravel()), ( X_test1, y_test1.values.ravel())]\n",
    "    \n",
    "    clf.fit(X_train1, y_train1.values.ravel(),\n",
    "            eval_set=evaluation, eval_metric=\"auc\",\n",
    "            early_stopping_rounds=10,verbose=False)\n",
    "    \n",
    "\n",
    "    pred = clf.predict(X_test1)\n",
    "    acc = accuracy_score(y_test1, pred)\n",
    "    print (\"SCORE:\", acc)\n",
    "    return {'loss': -acc, 'status': STATUS_OK }"
   ]
  },
  {
   "cell_type": "code",
   "execution_count": 69,
   "metadata": {},
   "outputs": [
    {
     "name": "stdout",
     "output_type": "stream",
     "text": [
      "SCORE:                                                 \n",
      "0.9316033389528574                                     \n",
      "SCORE:                                                                            \n",
      "0.9160620559267778                                                                \n",
      "SCORE:                                                                            \n",
      "0.9160620559267778                                                                \n",
      "SCORE:                                                                            \n",
      "0.9160620559267778                                                                \n",
      "SCORE:                                                                            \n",
      "0.9160620559267778                                                                \n",
      "SCORE:                                                                            \n",
      "0.9160620559267778                                                                \n",
      "SCORE:                                                                            \n",
      "0.9160620559267778                                                                \n",
      "SCORE:                                                                            \n",
      "0.9160620559267778                                                                \n",
      "SCORE:                                                                            \n",
      "0.9160620559267778                                                                \n",
      "SCORE:                                                                            \n",
      "0.9160620559267778                                                                \n",
      "SCORE:                                                                             \n",
      "0.9160620559267778                                                                 \n",
      "SCORE:                                                                             \n",
      "0.9316033389528574                                                                 \n",
      "SCORE:                                                                             \n",
      "0.9160620559267778                                                                 \n",
      "SCORE:                                                                             \n",
      "0.9160620559267778                                                                 \n",
      "SCORE:                                                                             \n",
      "0.9160620559267778                                                                 \n",
      "SCORE:                                                                             \n",
      "0.9160620559267778                                                                 \n",
      "SCORE:                                                                             \n",
      "0.9316033389528574                                                                 \n",
      "SCORE:                                                                             \n",
      "0.9160620559267778                                                                 \n",
      "SCORE:                                                                             \n",
      "0.9160620559267778                                                                 \n",
      "SCORE:                                                                             \n",
      "0.9160620559267778                                                                 \n",
      "SCORE:                                                                             \n",
      "0.9316033389528574                                                                 \n",
      "SCORE:                                                                             \n",
      "0.9160620559267778                                                                 \n",
      "SCORE:                                                                             \n",
      "0.9316033389528574                                                                 \n",
      "SCORE:                                                                             \n",
      "0.9316033389528574                                                                 \n",
      "SCORE:                                                                             \n",
      "0.9316033389528574                                                                 \n",
      "SCORE:                                                                             \n",
      "0.9160620559267778                                                                 \n",
      "SCORE:                                                                             \n",
      "0.9160620559267778                                                                 \n",
      "SCORE:                                                                             \n",
      "0.9316033389528574                                                                 \n",
      "SCORE:                                                                             \n",
      "0.9160620559267778                                                                 \n",
      "SCORE:                                                                             \n",
      "0.9160620559267778                                                                 \n",
      "SCORE:                                                                             \n",
      "0.9160620559267778                                                                 \n",
      "SCORE:                                                                             \n",
      "0.9160620559267778                                                                 \n",
      "SCORE:                                                                             \n",
      "0.9316033389528574                                                                 \n",
      "SCORE:                                                                             \n",
      "0.9160620559267778                                                                 \n",
      "SCORE:                                                                             \n",
      "0.9160620559267778                                                                 \n",
      "SCORE:                                                                             \n",
      "0.9160620559267778                                                                 \n",
      "SCORE:                                                                             \n",
      "0.9316033389528574                                                                 \n",
      "SCORE:                                                                             \n",
      "0.9160620559267778                                                                 \n",
      "SCORE:                                                                             \n",
      "0.9160620559267778                                                                 \n",
      "SCORE:                                                                             \n",
      "0.9316033389528574                                                                 \n",
      "SCORE:                                                                             \n",
      "0.9160620559267778                                                                 \n",
      "SCORE:                                                                             \n",
      "0.9160620559267778                                                                 \n",
      "SCORE:                                                                             \n",
      "0.9160620559267778                                                                 \n",
      "SCORE:                                                                             \n",
      "0.9160620559267778                                                                 \n",
      "SCORE:                                                                             \n",
      "0.9316033389528574                                                                 \n",
      "SCORE:                                                                             \n",
      "0.9160620559267778                                                                 \n",
      "SCORE:                                                                             \n",
      "0.9160620559267778                                                                 \n",
      "SCORE:                                                                             \n",
      "0.9160620559267778                                                                 \n",
      "SCORE:                                                                             \n",
      "0.9160620559267778                                                                 \n",
      "SCORE:                                                                             \n",
      "0.9316033389528574                                                                 \n",
      "SCORE:                                                                             \n",
      "0.9160620559267778                                                                 \n",
      "SCORE:                                                                             \n",
      "0.9160620559267778                                                                 \n",
      "SCORE:                                                                             \n",
      "0.9160620559267778                                                                 \n",
      "SCORE:                                                                             \n",
      "0.9160620559267778                                                                 \n",
      "SCORE:                                                                             \n",
      "0.9160620559267778                                                                 \n",
      "SCORE:                                                                             \n",
      "0.9160620559267778                                                                 \n",
      "SCORE:                                                                             \n",
      "0.9160620559267778                                                                 \n",
      "SCORE:                                                                             \n",
      "0.9160620559267778                                                                 \n",
      "SCORE:                                                                             \n",
      "0.9316033389528574                                                                 \n",
      "SCORE:                                                                             \n",
      "0.9160620559267778                                                                 \n",
      "SCORE:                                                                             \n",
      "0.9160620559267778                                                                 \n",
      "SCORE:                                                                             \n",
      "0.9316033389528574                                                                 \n",
      "SCORE:                                                                             \n",
      "0.9316033389528574                                                                 \n",
      "SCORE:                                                                             \n",
      "0.9160620559267778                                                                 \n",
      "SCORE:                                                                             \n",
      "0.9316033389528574                                                                 \n",
      "SCORE:                                                                             \n",
      "0.9316033389528574                                                                 \n",
      "SCORE:                                                                             \n",
      "0.9160620559267778                                                                 \n",
      "SCORE:                                                                             \n",
      "0.9316033389528574                                                                 \n",
      "SCORE:                                                                             \n",
      "0.9160620559267778                                                                 \n",
      "SCORE:                                                                             \n",
      "0.9316033389528574                                                                 \n",
      "SCORE:                                                                             \n",
      "0.9316033389528574                                                                 \n",
      "SCORE:                                                                             \n",
      "0.9160620559267778                                                                 \n",
      "SCORE:                                                                             \n",
      "0.9316033389528574                                                                 \n",
      "SCORE:                                                                             \n",
      "0.9160620559267778                                                                 \n",
      "SCORE:                                                                             \n",
      "0.9160620559267778                                                                 \n",
      "SCORE:                                                                             \n",
      "0.9160620559267778                                                                 \n",
      "SCORE:                                                                             \n",
      "0.9316033389528574                                                                 \n",
      "SCORE:                                                                             \n",
      "0.9160620559267778                                                                 \n",
      "SCORE:                                                                             \n",
      "0.9316033389528574                                                                 \n",
      "SCORE:                                                                             \n",
      "0.9316033389528574                                                                 \n",
      "SCORE:                                                                             \n",
      "0.9160620559267778                                                                 \n",
      "SCORE:                                                                             \n",
      "0.9316033389528574                                                                 \n",
      "SCORE:                                                                             \n",
      "0.9160620559267778                                                                 \n",
      "SCORE:                                                                             \n",
      "0.9160620559267778                                                                 \n",
      "SCORE:                                                                             \n",
      "0.9160620559267778                                                                 \n",
      "SCORE:                                                                             \n",
      "0.9160620559267778                                                                 \n",
      "SCORE:                                                                             \n",
      "0.9160620559267778                                                                 \n",
      "SCORE:                                                                             \n",
      "0.9160620559267778                                                                 \n",
      "SCORE:                                                                             \n",
      "0.9160620559267778                                                                 \n",
      "SCORE:                                                                             \n",
      "0.9316033389528574                                                                 \n",
      "SCORE:                                                                             \n",
      "0.9316033389528574                                                                 \n",
      "SCORE:                                                                             \n",
      "0.9160620559267778                                                                 \n",
      "SCORE:                                                                             \n",
      "0.9160620559267778                                                                 \n",
      "SCORE:                                                                             \n",
      "0.9160620559267778                                                                 \n",
      "SCORE:                                                                             \n",
      "0.9316033389528574                                                                 \n",
      "SCORE:                                                                             \n",
      "0.9160620559267778                                                                 \n",
      "SCORE:                                                                             \n",
      "0.9160620559267778                                                                 \n",
      "SCORE:                                                                             \n",
      "0.9160620559267778                                                                 \n",
      "SCORE:                                                                             \n",
      "0.9160620559267778                                                                 \n",
      "SCORE:                                                                             \n",
      "0.9160620559267778                                                                 \n",
      "100%|██████████| 100/100 [00:33<00:00,  3.01trial/s, best loss: -0.9316033389528574]\n"
     ]
    }
   ],
   "source": [
    "# optimization algorithm\n",
    "trials = Trials()\n",
    "\n",
    "best_hyperparams = fmin(fn = objective,\n",
    "                        space = space,\n",
    "                        algo = tpe.suggest,\n",
    "                        max_evals = 100,\n",
    "                        trials = trials)"
   ]
  },
  {
   "cell_type": "code",
   "execution_count": 70,
   "metadata": {},
   "outputs": [
    {
     "name": "stdout",
     "output_type": "stream",
     "text": [
      "The best hyperparameters are :  \n",
      "\n",
      "{'colsample_bytree': 0.6273555818987049, 'gamma': 4.853856993952946, 'max_depth': 14.0, 'min_child_weight': 8.0, 'reg_alpha': 160.0, 'reg_lambda': 0.3848753293685958}\n"
     ]
    }
   ],
   "source": [
    "print(\"The best hyperparameters are : \",\"\\n\")\n",
    "print(best_hyperparams)"
   ]
  },
  {
   "cell_type": "code",
   "execution_count": 71,
   "metadata": {},
   "outputs": [],
   "source": [
    "train1 = xgb.DMatrix(X_train1, label = y_train1)\n",
    "test1 = xgb.DMatrix(X_test1, label = y_test1)"
   ]
  },
  {
   "cell_type": "code",
   "execution_count": 72,
   "metadata": {},
   "outputs": [],
   "source": [
    "param1 = { 'colsample_bytree': 0.6273555818987049,\n",
    "          'gamma': 4.853856993952946, \n",
    "          'max_depth': 14, \n",
    "          'min_child_weight': 8.0, \n",
    "          'reg_alpha': 160.0, \n",
    "          'reg_lambda': 0.3848753293685958,\n",
    "          'objective': 'multi:softmax',\n",
    "            'num_class': 2,\n",
    "             'eta': 0.1,\n",
    "             'eval_metric':'mlogloss'}\n",
    "epochs = 10"
   ]
  },
  {
   "cell_type": "code",
   "execution_count": 73,
   "metadata": {},
   "outputs": [],
   "source": [
    "model1 = xgb.train(param1, train1, epochs)"
   ]
  },
  {
   "cell_type": "code",
   "execution_count": 74,
   "metadata": {},
   "outputs": [],
   "source": [
    "y_pred1 = model1.predict(test1)"
   ]
  },
  {
   "cell_type": "code",
   "execution_count": 77,
   "metadata": {},
   "outputs": [
    {
     "name": "stdout",
     "output_type": "stream",
     "text": [
      "[[130240   9642]\n",
      " [  2656   3975]]\n",
      "precision: 0.29191451861643536\n",
      "recall: 0.5994570954607148\n",
      "Accuracy: 0.9160620559267778\n",
      "f1-score micro: 0.39263137099960493\n"
     ]
    }
   ],
   "source": [
    "from sklearn.metrics import confusion_matrix\n",
    "from sklearn import metrics\n",
    "\n",
    "print(confusion_matrix(y_test1, y_pred1))\n",
    "print('precision:', metrics.precision_score(y_test1, y_pred1))\n",
    "print('recall:', metrics.recall_score(y_test1, y_pred1))\n",
    "print(\"Accuracy:\",metrics.accuracy_score(y_test1, y_pred1))\n",
    "print(\"f1-score micro:\",metrics.f1_score(y_test1, y_pred1))"
   ]
  },
  {
   "cell_type": "markdown",
   "metadata": {},
   "source": [
    "## ClaSP"
   ]
  },
  {
   "cell_type": "code",
   "execution_count": 78,
   "metadata": {},
   "outputs": [],
   "source": [
    "clasp = pd.read_csv('inputclasp.csv')"
   ]
  },
  {
   "cell_type": "code",
   "execution_count": 79,
   "metadata": {},
   "outputs": [],
   "source": [
    "clasp.columns = ['usersession', 'sequences', '2', '22', '222', '0', '20', 'target']"
   ]
  },
  {
   "cell_type": "code",
   "execution_count": 80,
   "metadata": {},
   "outputs": [],
   "source": [
    "X2 = clasp.drop(columns = ['target', 'usersession', 'sequences'])\n",
    "y2 = clasp['target']\n",
    "X_train2, X_test2, y_train2, y_test2 = train_test_split(X2, y2, test_size = 0.3, random_state = 0)"
   ]
  },
  {
   "cell_type": "code",
   "execution_count": 81,
   "metadata": {},
   "outputs": [
    {
     "data": {
      "text/plain": [
       "Text(0, 0.5, 'frequency')"
      ]
     },
     "execution_count": 81,
     "metadata": {},
     "output_type": "execute_result"
    },
    {
     "data": {
      "image/png": "[encoded data removed]",
      "text/plain": [
       "<Figure size 432x288 with 1 Axes>"
      ]
     },
     "metadata": {
      "needs_background": "light"
     },
     "output_type": "display_data"
    }
   ],
   "source": [
    "count_classes = pd.value_counts(y_train2, sort = True)\n",
    "count_classes.plot(kind = 'bar', rot = 0)\n",
    "plt.title('class distribution')\n",
    "plt.xticks(range(2))\n",
    "plt.xlabel('target')\n",
    "plt.ylabel('frequency')"
   ]
  },
  {
   "cell_type": "code",
   "execution_count": 82,
   "metadata": {},
   "outputs": [],
   "source": [
    "undersample = RandomUnderSampler(sampling_strategy='majority')"
   ]
  },
  {
   "cell_type": "code",
   "execution_count": 83,
   "metadata": {},
   "outputs": [],
   "source": [
    "X_train2, y_train2 = undersample.fit_resample(X_train2, y_train2)"
   ]
  },
  {
   "cell_type": "code",
   "execution_count": 84,
   "metadata": {},
   "outputs": [
    {
     "data": {
      "text/plain": [
       "Purchase       15689\n",
       "No-Purchase    15689\n",
       "Name: target, dtype: int64"
      ]
     },
     "execution_count": 84,
     "metadata": {},
     "output_type": "execute_result"
    }
   ],
   "source": [
    "Class = [len(y_train1.loc[y_train1 == 1]), len(y_train1.loc[y_train1 == 0])]\n",
    "pd.Series(Class, index = ['Purchase', 'No-Purchase'], name = 'target')"
   ]
  },
  {
   "cell_type": "code",
   "execution_count": 85,
   "metadata": {},
   "outputs": [
    {
     "data": {
      "text/plain": [
       "Text(0, 0.5, 'frequency')"
      ]
     },
     "execution_count": 85,
     "metadata": {},
     "output_type": "execute_result"
    },
    {
     "data": {
      "image/png": "[encoded data removed]",
      "text/plain": [
       "<Figure size 432x288 with 1 Axes>"
      ]
     },
     "metadata": {
      "needs_background": "light"
     },
     "output_type": "display_data"
    }
   ],
   "source": [
    "count_classes = pd.value_counts(y_train2, sort = True)\n",
    "count_classes.plot(kind = 'bar', rot = 0)\n",
    "plt.title('class distribution')\n",
    "plt.xticks(range(2))\n",
    "plt.xlabel('target')\n",
    "plt.ylabel('frequency')"
   ]
  },
  {
   "cell_type": "code",
   "execution_count": 86,
   "metadata": {},
   "outputs": [],
   "source": [
    "# initialize domain range:\n",
    "space ={'max_depth': hp.quniform(\"max_depth\", 3, 18, 1),\n",
    "        'gamma': hp.uniform ('gamma', 1,9),\n",
    "        'reg_alpha' : hp.quniform('reg_alpha', 40,180,1),\n",
    "        'reg_lambda' : hp.uniform('reg_lambda', 0,1),\n",
    "        'colsample_bytree' : hp.uniform('colsample_bytree', 0.5,1),\n",
    "        'min_child_weight' : hp.quniform('min_child_weight', 0, 10, 1),\n",
    "        'n_estimators': 180,\n",
    "        'seed': 0 \n",
    "    }"
   ]
  },
  {
   "cell_type": "code",
   "execution_count": 87,
   "metadata": {},
   "outputs": [],
   "source": [
    "# define objective function\n",
    "def objective(space):\n",
    "    clf=xgb.XGBClassifier(\n",
    "                    n_estimators =space['n_estimators'], max_depth = int(space['max_depth']), gamma = space['gamma'],\n",
    "                    reg_alpha = int(space['reg_alpha']),min_child_weight=int(space['min_child_weight']),\n",
    "                    colsample_bytree=int(space['colsample_bytree']), use_label_encoder=False)\n",
    "    \n",
    "    evaluation = [( X_train2, y_train2.values.ravel()), ( X_test2, y_test2.values.ravel())]\n",
    "    \n",
    "    clf.fit(X_train2, y_train2.values.ravel(),\n",
    "            eval_set=evaluation, eval_metric=\"auc\",\n",
    "            early_stopping_rounds=10,verbose=False)\n",
    "    \n",
    "\n",
    "    pred = clf.predict(X_test2)\n",
    "    acc = accuracy_score(y_test2, pred)\n",
    "    print (\"SCORE:\", acc)\n",
    "    return {'loss': -acc, 'status': STATUS_OK }"
   ]
  },
  {
   "cell_type": "code",
   "execution_count": 88,
   "metadata": {},
   "outputs": [
    {
     "name": "stdout",
     "output_type": "stream",
     "text": [
      "SCORE:                                                 \n",
      "0.9548572481622791                                     \n",
      "SCORE:                                                                            \n",
      "0.9548572481622791                                                                \n",
      "SCORE:                                                                            \n",
      "0.9548572481622791                                                                \n",
      "SCORE:                                                                            \n",
      "0.9548572481622791                                                                \n",
      "SCORE:                                                                            \n",
      "0.9548572481622791                                                                \n",
      "SCORE:                                                                            \n",
      "0.9548572481622791                                                                \n",
      "SCORE:                                                                            \n",
      "0.9548572481622791                                                                \n",
      "SCORE:                                                                            \n",
      "0.9548572481622791                                                                \n",
      "SCORE:                                                                            \n",
      "0.9548572481622791                                                                \n",
      "SCORE:                                                                            \n",
      "0.9548572481622791                                                                \n",
      "SCORE:                                                                             \n",
      "0.9548572481622791                                                                 \n",
      "SCORE:                                                                             \n",
      "0.9548572481622791                                                                 \n",
      "SCORE:                                                                             \n",
      "0.9548572481622791                                                                 \n",
      "SCORE:                                                                             \n",
      "0.9548572481622791                                                                 \n",
      "SCORE:                                                                             \n",
      "0.9548572481622791                                                                 \n",
      "SCORE:                                                                             \n",
      "0.9548572481622791                                                                 \n",
      "SCORE:                                                                             \n",
      "0.9548572481622791                                                                 \n",
      "SCORE:                                                                             \n",
      "0.9548572481622791                                                                 \n",
      "SCORE:                                                                             \n",
      "0.9548572481622791                                                                 \n",
      "SCORE:                                                                             \n",
      "0.9548572481622791                                                                 \n",
      "SCORE:                                                                             \n",
      "0.9548572481622791                                                                 \n",
      "SCORE:                                                                             \n",
      "0.9548572481622791                                                                 \n",
      "SCORE:                                                                             \n",
      "0.9548572481622791                                                                 \n",
      "SCORE:                                                                             \n",
      "0.9548572481622791                                                                 \n",
      "SCORE:                                                                             \n",
      "0.9548572481622791                                                                 \n",
      "SCORE:                                                                             \n",
      "0.9548572481622791                                                                 \n",
      "SCORE:                                                                             \n",
      "0.9548572481622791                                                                 \n",
      "SCORE:                                                                             \n",
      "0.9548572481622791                                                                 \n",
      "SCORE:                                                                             \n",
      "0.9548572481622791                                                                 \n",
      "SCORE:                                                                             \n",
      "0.9548572481622791                                                                 \n",
      "SCORE:                                                                             \n",
      "0.9548572481622791                                                                 \n",
      "SCORE:                                                                             \n",
      "0.9548572481622791                                                                 \n",
      "SCORE:                                                                             \n",
      "0.9548572481622791                                                                 \n",
      "SCORE:                                                                             \n",
      "0.9548572481622791                                                                 \n",
      "SCORE:                                                                             \n",
      "0.9548572481622791                                                                 \n",
      "SCORE:                                                                             \n",
      "0.9548572481622791                                                                 \n",
      "SCORE:                                                                             \n",
      "0.9548572481622791                                                                 \n",
      "SCORE:                                                                             \n",
      "0.9548572481622791                                                                 \n",
      "SCORE:                                                                             \n",
      "0.9548572481622791                                                                 \n",
      "SCORE:                                                                             \n",
      "0.9548572481622791                                                                 \n",
      "SCORE:                                                                             \n",
      "0.9548572481622791                                                                 \n",
      "SCORE:                                                                             \n",
      "0.9548572481622791                                                                 \n",
      "SCORE:                                                                             \n",
      "0.9548572481622791                                                                 \n",
      "SCORE:                                                                             \n",
      "0.9548572481622791                                                                 \n",
      "SCORE:                                                                             \n",
      "0.9548572481622791                                                                 \n",
      "SCORE:                                                                             \n",
      "0.9548572481622791                                                                 \n",
      "SCORE:                                                                             \n",
      "0.9548572481622791                                                                 \n",
      "SCORE:                                                                             \n",
      "0.9548572481622791                                                                 \n",
      "SCORE:                                                                             \n",
      "0.9548572481622791                                                                 \n",
      "SCORE:                                                                             \n",
      "0.9548572481622791                                                                 \n",
      "SCORE:                                                                             \n",
      "0.9548572481622791                                                                 \n",
      "SCORE:                                                                             \n",
      "0.9548572481622791                                                                 \n",
      "SCORE:                                                                             \n",
      "0.9548572481622791                                                                 \n",
      "SCORE:                                                                             \n",
      "0.9548572481622791                                                                 \n",
      "SCORE:                                                                             \n",
      "0.9548572481622791                                                                 \n",
      "SCORE:                                                                             \n",
      "0.9548572481622791                                                                 \n",
      "SCORE:                                                                             \n",
      "0.9548572481622791                                                                 \n",
      "SCORE:                                                                             \n",
      "0.9548572481622791                                                                 \n",
      "SCORE:                                                                             \n",
      "0.9548572481622791                                                                 \n",
      "SCORE:                                                                             \n",
      "0.9548572481622791                                                                 \n",
      "SCORE:                                                                             \n",
      "0.9548572481622791                                                                 \n",
      "SCORE:                                                                             \n",
      "0.9548572481622791                                                                 \n",
      "SCORE:                                                                             \n",
      "0.9548572481622791                                                                 \n",
      "SCORE:                                                                             \n",
      "0.9548572481622791                                                                 \n",
      "SCORE:                                                                             \n",
      "0.9548572481622791                                                                 \n",
      "SCORE:                                                                             \n",
      "0.9548572481622791                                                                 \n",
      "SCORE:                                                                             \n",
      "0.9548572481622791                                                                 \n",
      "SCORE:                                                                             \n",
      "0.9548572481622791                                                                 \n",
      "SCORE:                                                                             \n",
      "0.9548572481622791                                                                 \n",
      "SCORE:                                                                             \n",
      "0.9548572481622791                                                                 \n",
      "SCORE:                                                                             \n",
      "0.9548572481622791                                                                 \n",
      "SCORE:                                                                             \n",
      "0.9548572481622791                                                                 \n",
      "SCORE:                                                                             \n",
      "0.9548572481622791                                                                 \n",
      "SCORE:                                                                             \n",
      "0.9548572481622791                                                                 \n",
      "SCORE:                                                                             \n",
      "0.9548572481622791                                                                 \n",
      "SCORE:                                                                             \n",
      "0.9548572481622791                                                                 \n",
      "SCORE:                                                                             \n",
      "0.9548572481622791                                                                 \n",
      "SCORE:                                                                             \n",
      "0.9548572481622791                                                                 \n",
      "SCORE:                                                                             \n",
      "0.9548572481622791                                                                 \n",
      "SCORE:                                                                             \n",
      "0.9548572481622791                                                                 \n",
      "SCORE:                                                                             \n",
      "0.9548572481622791                                                                 \n",
      "SCORE:                                                                             \n",
      "0.9548572481622791                                                                 \n",
      "SCORE:                                                                             \n",
      "0.9548572481622791                                                                 \n",
      "SCORE:                                                                             \n",
      "0.9548572481622791                                                                 \n",
      "SCORE:                                                                             \n",
      "0.9548572481622791                                                                 \n",
      "SCORE:                                                                             \n",
      "0.9548572481622791                                                                 \n",
      "SCORE:                                                                             \n",
      "0.9548572481622791                                                                 \n",
      "SCORE:                                                                             \n",
      "0.9548572481622791                                                                 \n",
      "SCORE:                                                                             \n",
      "0.9548572481622791                                                                 \n",
      "SCORE:                                                                             \n",
      "0.9548572481622791                                                                 \n",
      "SCORE:                                                                             \n",
      "0.9548572481622791                                                                 \n",
      "SCORE:                                                                             \n",
      "0.9548572481622791                                                                 \n",
      "SCORE:                                                                             \n",
      "0.9548572481622791                                                                 \n",
      "SCORE:                                                                             \n",
      "0.9548572481622791                                                                 \n",
      "SCORE:                                                                             \n",
      "0.9548572481622791                                                                 \n",
      "SCORE:                                                                             \n",
      "0.9548572481622791                                                                 \n",
      "SCORE:                                                                             \n",
      "0.9548572481622791                                                                 \n",
      "SCORE:                                                                             \n",
      "0.9548572481622791                                                                 \n",
      "SCORE:                                                                             \n",
      "0.9548572481622791                                                                 \n",
      "SCORE:                                                                             \n",
      "0.9548572481622791                                                                 \n",
      "100%|██████████| 100/100 [00:18<00:00,  5.30trial/s, best loss: -0.9548572481622791]\n"
     ]
    }
   ],
   "source": [
    "# optimization algorithm\n",
    "trials = Trials()\n",
    "\n",
    "best_hyperparams = fmin(fn = objective,\n",
    "                        space = space,\n",
    "                        algo = tpe.suggest,\n",
    "                        max_evals = 100,\n",
    "                        trials = trials)"
   ]
  },
  {
   "cell_type": "code",
   "execution_count": 89,
   "metadata": {
    "scrolled": true
   },
   "outputs": [
    {
     "name": "stdout",
     "output_type": "stream",
     "text": [
      "The best hyperparameters are :  \n",
      "\n",
      "{'colsample_bytree': 0.7865494810673204, 'gamma': 1.0903410905350368, 'max_depth': 12.0, 'min_child_weight': 3.0, 'reg_alpha': 143.0, 'reg_lambda': 0.6293001779487499}\n"
     ]
    }
   ],
   "source": [
    "print(\"The best hyperparameters are : \",\"\\n\")\n",
    "print(best_hyperparams)"
   ]
  },
  {
   "cell_type": "code",
   "execution_count": 90,
   "metadata": {},
   "outputs": [],
   "source": [
    "train2 = xgb.DMatrix(X_train2, label = y_train2)\n",
    "test2 = xgb.DMatrix(X_test2, label = y_test2)"
   ]
  },
  {
   "cell_type": "code",
   "execution_count": 91,
   "metadata": {},
   "outputs": [],
   "source": [
    "param2 = { 'colsample_bytree': 0.7865494810673204,\n",
    "          'gamma': 1.0903410905350368, \n",
    "          'max_depth': 12, \n",
    "          'min_child_weight': 3.0, \n",
    "          'reg_alpha': 143.0, \n",
    "          'reg_lambda': 0.6293001779487499,\n",
    "          'objective': 'multi:softmax',\n",
    "        'num_class': 2,\n",
    "         'eta': 0.1,\n",
    "         'eval_metric':'mlogloss'}\n",
    "epochs = 10"
   ]
  },
  {
   "cell_type": "code",
   "execution_count": 92,
   "metadata": {},
   "outputs": [],
   "source": [
    "model2 = xgb.train(param2, train2, epochs)"
   ]
  },
  {
   "cell_type": "code",
   "execution_count": 93,
   "metadata": {},
   "outputs": [],
   "source": [
    "y_pred2 = model2.predict(test2)"
   ]
  },
  {
   "cell_type": "code",
   "execution_count": 95,
   "metadata": {},
   "outputs": [
    {
     "name": "stdout",
     "output_type": "stream",
     "text": [
      "[[136374   3508]\n",
      " [  3106   3525]]\n",
      "precision: 0.5012085880847433\n",
      "recall: 0.5315940280500678\n",
      "Accuracy: 0.9548572481622791\n",
      "f1-score micro: 0.5159543325526932\n"
     ]
    }
   ],
   "source": [
    "from sklearn import metrics\n",
    "print(confusion_matrix(y_test2, y_pred2))\n",
    "print('precision:', metrics.precision_score(y_test2, y_pred2))\n",
    "print('recall:', metrics.recall_score(y_test2, y_pred2))\n",
    "print(\"Accuracy:\",metrics.accuracy_score(y_test2, y_pred2))\n",
    "print(\"f1-score micro:\",metrics.f1_score(y_test2, y_pred2))"
   ]
  },
  {
   "cell_type": "markdown",
   "metadata": {},
   "source": [
    "## VMSP"
   ]
  },
  {
   "cell_type": "code",
   "execution_count": 96,
   "metadata": {},
   "outputs": [],
   "source": [
    "vmsp = pd.read_csv('inputvmsp.csv')"
   ]
  },
  {
   "cell_type": "code",
   "execution_count": 97,
   "metadata": {},
   "outputs": [],
   "source": [
    "vmsp.columns = ['usersession', 'sequences', '2022', '2202', '222222', 'target']"
   ]
  },
  {
   "cell_type": "code",
   "execution_count": 98,
   "metadata": {},
   "outputs": [
    {
     "data": {
      "text/plain": [
       "Purchase        22320\n",
       "No-Purchase    466054\n",
       "Name: target, dtype: int64"
      ]
     },
     "execution_count": 98,
     "metadata": {},
     "output_type": "execute_result"
    }
   ],
   "source": [
    "Class = [len(vmsp.loc[vmsp.target == 1]), len(vmsp.loc[vmsp.target == 0])]\n",
    "pd.Series(Class, index = ['Purchase', 'No-Purchase'], name = 'target')"
   ]
  },
  {
   "cell_type": "code",
   "execution_count": 99,
   "metadata": {},
   "outputs": [],
   "source": [
    "X3 = vmsp.drop(columns = ['target', 'usersession', 'sequences'])\n",
    "y3 = vmsp['target']\n",
    "X_train3, X_test3, y_train3, y_test3 = train_test_split(X3, y3, test_size = 0.3, random_state = 0)"
   ]
  },
  {
   "cell_type": "code",
   "execution_count": 100,
   "metadata": {},
   "outputs": [],
   "source": [
    "X_train3, y_train3 = undersample.fit_resample(X_train3, y_train3)"
   ]
  },
  {
   "cell_type": "code",
   "execution_count": 101,
   "metadata": {},
   "outputs": [],
   "source": [
    "# initialize domain range:\n",
    "space ={'max_depth': hp.quniform(\"max_depth\", 3, 18, 1),\n",
    "        'gamma': hp.uniform ('gamma', 1,9),\n",
    "        'reg_alpha' : hp.quniform('reg_alpha', 40,180,1),\n",
    "        'reg_lambda' : hp.uniform('reg_lambda', 0,1),\n",
    "        'colsample_bytree' : hp.uniform('colsample_bytree', 0.5,1),\n",
    "        'min_child_weight' : hp.quniform('min_child_weight', 0, 10, 1),\n",
    "        'n_estimators': 180,\n",
    "        'seed': 0 \n",
    "    }"
   ]
  },
  {
   "cell_type": "code",
   "execution_count": 102,
   "metadata": {},
   "outputs": [],
   "source": [
    "# define objective function\n",
    "def objective(space):\n",
    "    clf=xgb.XGBClassifier(\n",
    "                    n_estimators =space['n_estimators'], max_depth = int(space['max_depth']), gamma = space['gamma'],\n",
    "                    reg_alpha = int(space['reg_alpha']),min_child_weight=int(space['min_child_weight']),\n",
    "                    colsample_bytree=int(space['colsample_bytree']), use_label_encoder=False)\n",
    "    \n",
    "    evaluation = [( X_train3, y_train3.values.ravel()), ( X_test3, y_test3.values.ravel())]\n",
    "    \n",
    "    clf.fit(X_train3, y_train3.values.ravel(),\n",
    "            eval_set=evaluation, eval_metric=\"auc\",\n",
    "            early_stopping_rounds=10,verbose=False)\n",
    "    \n",
    "\n",
    "    pred = clf.predict(X_test3)\n",
    "    acc = accuracy_score(y_test3, pred)\n",
    "    print (\"SCORE:\", acc)\n",
    "    return {'loss': -acc, 'status': STATUS_OK }"
   ]
  },
  {
   "cell_type": "code",
   "execution_count": 103,
   "metadata": {},
   "outputs": [
    {
     "name": "stdout",
     "output_type": "stream",
     "text": [
      "SCORE:                                                 \n",
      "0.9404080184010976                                     \n",
      "SCORE:                                                                            \n",
      "0.9555329561199347                                                                \n",
      "SCORE:                                                                            \n",
      "0.9555329561199347                                                                \n",
      "SCORE:                                                                            \n",
      "0.9555329561199347                                                                \n",
      "SCORE:                                                                            \n",
      "0.9404080184010976                                                                \n",
      "SCORE:                                                                            \n",
      "0.9404080184010976                                                                \n",
      "SCORE:                                                                            \n",
      "0.9555329561199347                                                                \n",
      "SCORE:                                                                            \n",
      "0.9404080184010976                                                                \n",
      "SCORE:                                                                            \n",
      "0.9555329561199347                                                                \n",
      "SCORE:                                                                            \n",
      "0.9404080184010976                                                                \n",
      "SCORE:                                                                             \n",
      "0.9404080184010976                                                                 \n",
      "SCORE:                                                                             \n",
      "0.9404080184010976                                                                 \n",
      "SCORE:                                                                             \n",
      "0.9404080184010976                                                                 \n",
      "SCORE:                                                                             \n",
      "0.9404080184010976                                                                 \n",
      "SCORE:                                                                             \n",
      "0.9555329561199347                                                                 \n",
      "SCORE:                                                                             \n",
      "0.9404080184010976                                                                 \n",
      "SCORE:                                                                             \n",
      "0.9404080184010976                                                                 \n",
      "SCORE:                                                                             \n",
      "0.9404080184010976                                                                 \n",
      "SCORE:                                                                             \n",
      "0.9555329561199347                                                                 \n",
      "SCORE:                                                                             \n",
      "0.9555329561199347                                                                 \n",
      "SCORE:                                                                             \n",
      "0.9555329561199347                                                                 \n",
      "SCORE:                                                                             \n",
      "0.9555329561199347                                                                 \n",
      "SCORE:                                                                             \n",
      "0.9555329561199347                                                                 \n",
      "SCORE:                                                                             \n",
      "0.9555329561199347                                                                 \n",
      "SCORE:                                                                             \n",
      "0.9555329561199347                                                                 \n",
      "SCORE:                                                                             \n",
      "0.9555329561199347                                                                 \n",
      "SCORE:                                                                             \n",
      "0.9555329561199347                                                                 \n",
      "SCORE:                                                                             \n",
      "0.9555329561199347                                                                 \n",
      "SCORE:                                                                             \n",
      "0.9555329561199347                                                                 \n",
      "SCORE:                                                                             \n",
      "0.9555329561199347                                                                 \n",
      "SCORE:                                                                             \n",
      "0.9555329561199347                                                                 \n",
      "SCORE:                                                                             \n",
      "0.9555329561199347                                                                 \n",
      "SCORE:                                                                             \n",
      "0.9555329561199347                                                                 \n",
      "SCORE:                                                                             \n",
      "0.9555329561199347                                                                 \n",
      "SCORE:                                                                             \n",
      "0.9555329561199347                                                                 \n",
      "SCORE:                                                                             \n",
      "0.9555329561199347                                                                 \n",
      "SCORE:                                                                             \n",
      "0.9555329561199347                                                                 \n",
      "SCORE:                                                                             \n",
      "0.9404080184010976                                                                 \n",
      "SCORE:                                                                             \n",
      "0.9404080184010976                                                                 \n",
      "SCORE:                                                                             \n",
      "0.9555329561199347                                                                 \n",
      "SCORE:                                                                             \n",
      "0.9555329561199347                                                                 \n",
      "SCORE:                                                                             \n",
      "0.9555329561199347                                                                 \n",
      "SCORE:                                                                             \n",
      "0.9555329561199347                                                                 \n",
      "SCORE:                                                                             \n",
      "0.9555329561199347                                                                 \n",
      "SCORE:                                                                             \n",
      "0.9555329561199347                                                                 \n",
      "SCORE:                                                                             \n",
      "0.9555329561199347                                                                 \n",
      "SCORE:                                                                             \n",
      "0.9555329561199347                                                                 \n",
      "SCORE:                                                                             \n",
      "0.9555329561199347                                                                 \n",
      "SCORE:                                                                             \n",
      "0.9555329561199347                                                                 \n",
      "SCORE:                                                                             \n",
      "0.9555329561199347                                                                 \n",
      "SCORE:                                                                             \n",
      "0.9404080184010976                                                                 \n",
      "SCORE:                                                                             \n",
      "0.9555329561199347                                                                 \n",
      "SCORE:                                                                             \n",
      "0.9555329561199347                                                                 \n",
      "SCORE:                                                                             \n",
      "0.9404080184010976                                                                 \n",
      "SCORE:                                                                             \n",
      "0.9555329561199347                                                                 \n",
      "SCORE:                                                                             \n",
      "0.9404080184010976                                                                 \n",
      "SCORE:                                                                             \n",
      "0.9404080184010976                                                                 \n",
      "SCORE:                                                                             \n",
      "0.9555329561199347                                                                 \n",
      "SCORE:                                                                             \n",
      "0.9555329561199347                                                                 \n",
      "SCORE:                                                                             \n",
      "0.9555329561199347                                                                 \n",
      "SCORE:                                                                             \n",
      "0.9555329561199347                                                                 \n",
      "SCORE:                                                                             \n",
      "0.9404080184010976                                                                 \n",
      "SCORE:                                                                             \n",
      "0.9404080184010976                                                                 \n",
      "SCORE:                                                                             \n",
      "0.9555329561199347                                                                 \n",
      "SCORE:                                                                             \n",
      "0.9555329561199347                                                                 \n",
      "SCORE:                                                                             \n",
      "0.9555329561199347                                                                 \n",
      "SCORE:                                                                             \n",
      "0.9555329561199347                                                                 \n",
      "SCORE:                                                                             \n",
      "0.9555329561199347                                                                 \n",
      "SCORE:                                                                             \n",
      "0.9555329561199347                                                                 \n",
      "SCORE:                                                                             \n",
      "0.9555329561199347                                                                 \n",
      "SCORE:                                                                             \n",
      "0.9555329561199347                                                                 \n",
      "SCORE:                                                                             \n",
      "0.9555329561199347                                                                 \n",
      "SCORE:                                                                             \n",
      "0.9555329561199347                                                                 \n",
      "SCORE:                                                                             \n",
      "0.9555329561199347                                                                 \n",
      "SCORE:                                                                             \n",
      "0.9555329561199347                                                                 \n",
      "SCORE:                                                                             \n",
      "0.9404080184010976                                                                 \n",
      "SCORE:                                                                             \n",
      "0.9404080184010976                                                                 \n",
      "SCORE:                                                                             \n",
      "0.9404080184010976                                                                 \n",
      "SCORE:                                                                             \n",
      "0.9555329561199347                                                                 \n",
      "SCORE:                                                                             \n",
      "0.9555329561199347                                                                 \n",
      "SCORE:                                                                             \n",
      "0.9404080184010976                                                                 \n",
      "SCORE:                                                                             \n",
      "0.9555329561199347                                                                 \n",
      "SCORE:                                                                             \n",
      "0.9555329561199347                                                                 \n",
      "SCORE:                                                                             \n",
      "0.9555329561199347                                                                 \n",
      "SCORE:                                                                             \n",
      "0.9404080184010976                                                                 \n",
      "SCORE:                                                                             \n",
      "0.9555329561199347                                                                 \n",
      "SCORE:                                                                             \n",
      "0.9404080184010976                                                                 \n",
      "SCORE:                                                                             \n",
      "0.9555329561199347                                                                 \n",
      "SCORE:                                                                             \n",
      "0.9404080184010976                                                                 \n",
      "SCORE:                                                                             \n",
      "0.9555329561199347                                                                 \n",
      "SCORE:                                                                             \n",
      "0.9555329561199347                                                                 \n",
      "SCORE:                                                                             \n",
      "0.9404080184010976                                                                 \n",
      "SCORE:                                                                             \n",
      "0.9555329561199347                                                                 \n",
      "SCORE:                                                                             \n",
      "0.9555329561199347                                                                 \n",
      "SCORE:                                                                             \n",
      "0.9555329561199347                                                                 \n",
      "SCORE:                                                                             \n",
      "0.9555329561199347                                                                 \n",
      "SCORE:                                                                             \n",
      "0.9555329561199347                                                                 \n",
      "SCORE:                                                                             \n",
      "0.9555329561199347                                                                 \n",
      "SCORE:                                                                             \n",
      "0.9555329561199347                                                                 \n",
      "SCORE:                                                                             \n",
      "0.9555329561199347                                                                 \n",
      "100%|██████████| 100/100 [00:19<00:00,  5.15trial/s, best loss: -0.9555329561199347]\n"
     ]
    }
   ],
   "source": [
    "# optimization algorithm\n",
    "trials = Trials()\n",
    "\n",
    "best_hyperparams = fmin(fn = objective,\n",
    "                        space = space,\n",
    "                        algo = tpe.suggest,\n",
    "                        max_evals = 100,\n",
    "                        trials = trials)"
   ]
  },
  {
   "cell_type": "code",
   "execution_count": 104,
   "metadata": {},
   "outputs": [
    {
     "name": "stdout",
     "output_type": "stream",
     "text": [
      "The best hyperparameters are :  \n",
      "\n",
      "{'colsample_bytree': 0.5977198838303659, 'gamma': 8.722979559052291, 'max_depth': 15.0, 'min_child_weight': 6.0, 'reg_alpha': 150.0, 'reg_lambda': 0.07685696468508751}\n"
     ]
    }
   ],
   "source": [
    "print(\"The best hyperparameters are : \",\"\\n\")\n",
    "print(best_hyperparams)"
   ]
  },
  {
   "cell_type": "code",
   "execution_count": 105,
   "metadata": {},
   "outputs": [],
   "source": [
    "train3 = xgb.DMatrix(X_train3, label = y_train3)\n",
    "test3 = xgb.DMatrix(X_test3, label = y_test3)"
   ]
  },
  {
   "cell_type": "code",
   "execution_count": 106,
   "metadata": {},
   "outputs": [],
   "source": [
    "param3 = { 'colsample_bytree':  0.5977198838303659,\n",
    "          'gamma': 8.722979559052291, \n",
    "          'max_depth': 15, \n",
    "          'min_child_weight': 6.0, \n",
    "          'reg_alpha': 150.0, \n",
    "          'reg_lambda': 0.07685696468508751,\n",
    "          'objective': 'multi:softmax',\n",
    "          'num_class': 2,\n",
    "         'eta': 0.1,\n",
    "         'eval_metric':'mlogloss'}\n",
    "epochs = 10"
   ]
  },
  {
   "cell_type": "code",
   "execution_count": 107,
   "metadata": {},
   "outputs": [],
   "source": [
    "model3 = xgb.train(param3, train3, epochs)"
   ]
  },
  {
   "cell_type": "code",
   "execution_count": 108,
   "metadata": {},
   "outputs": [],
   "source": [
    "y_pred3 = model3.predict(test3)"
   ]
  },
  {
   "cell_type": "code",
   "execution_count": 109,
   "metadata": {},
   "outputs": [
    {
     "name": "stdout",
     "output_type": "stream",
     "text": [
      "[[138370   1512]\n",
      " [  5003   1628]]\n",
      "accuracy-score: 0.9555329561199347\n",
      "precision: 0.5184713375796178\n",
      "recall: 0.2455134972100739\n",
      "f1-score micro: 0.33323098966328935\n"
     ]
    }
   ],
   "source": [
    "from sklearn import metrics\n",
    "print(confusion_matrix(y_test3, y_pred3))\n",
    "print(\"accuracy-score:\",metrics.accuracy_score(y_test3, y_pred3))\n",
    "print('precision:', metrics.precision_score(y_test3, y_pred3))\n",
    "print('recall:', metrics.recall_score(y_test3, y_pred3))\n",
    "print(\"f1-score micro:\",metrics.f1_score(y_test3, y_pred3))"
   ]
  },
  {
   "cell_type": "markdown",
   "metadata": {},
   "source": [
    "#### Check which features has the highest importance and make a new model with those features"
   ]
  },
  {
   "cell_type": "code",
   "execution_count": 110,
   "metadata": {},
   "outputs": [
    {
     "data": {
      "image/png": "[encoded data removed]",
      "text/plain": [
       "<Figure size 432x288 with 1 Axes>"
      ]
     },
     "metadata": {
      "needs_background": "light"
     },
     "output_type": "display_data"
    },
    {
     "data": {
      "text/plain": [
       "<Figure size 1152x864 with 0 Axes>"
      ]
     },
     "metadata": {},
     "output_type": "display_data"
    }
   ],
   "source": [
    "import matplotlib.pyplot as plt  # for plotting facilitie\n",
    "xgb.plot_importance(model1)\n",
    "plt.figure(figsize = (16, 12))\n",
    "plt.show()"
   ]
  },
  {
   "cell_type": "code",
   "execution_count": 112,
   "metadata": {},
   "outputs": [
    {
     "data": {
      "image/png": "[encoded data removed]",
      "text/plain": [
       "<Figure size 432x288 with 1 Axes>"
      ]
     },
     "metadata": {
      "needs_background": "light"
     },
     "output_type": "display_data"
    },
    {
     "data": {
      "text/plain": [
       "<Figure size 1152x864 with 0 Axes>"
      ]
     },
     "metadata": {},
     "output_type": "display_data"
    }
   ],
   "source": [
    "import matplotlib.pyplot as plt  # for plotting facilitie\n",
    "xgb.plot_importance(model2)\n",
    "plt.figure(figsize = (16, 12))\n",
    "plt.show()"
   ]
  },
  {
   "cell_type": "code",
   "execution_count": 115,
   "metadata": {},
   "outputs": [
    {
     "data": {
      "image/png": "[encoded data removed]",
      "text/plain": [
       "<Figure size 432x288 with 1 Axes>"
      ]
     },
     "metadata": {
      "needs_background": "light"
     },
     "output_type": "display_data"
    },
    {
     "data": {
      "text/plain": [
       "<Figure size 1152x864 with 0 Axes>"
      ]
     },
     "metadata": {},
     "output_type": "display_data"
    }
   ],
   "source": [
    "import matplotlib.pyplot as plt  # for plotting facilitie\n",
    "xgb.plot_importance(model3)\n",
    "plt.figure(figsize = (16, 12))\n",
    "plt.show()"
   ]
  },
  {
   "cell_type": "markdown",
   "metadata": {},
   "source": [
    "## Visualizations"
   ]
  },
  {
   "cell_type": "code",
   "execution_count": 116,
   "metadata": {},
   "outputs": [],
   "source": [
    "def confusio_matrix(y_test, y_predicted):\n",
    "    cm = confusion_matrix(y_test, y_predicted)\n",
    "    plt.figure(figsize=(5,5))\n",
    "    plt.clf()\n",
    "    plt.imshow(cm, interpolation='nearest', cmap=plt.cm.Wistia)\n",
    "    classNames = ['Negative','Positive']\n",
    "    plt.title('Confusion Matrix')\n",
    "    plt.ylabel('True label')\n",
    "    plt.xlabel('Predicted label')\n",
    "    tick_marks = np.arange(len(classNames))\n",
    "    plt.xticks(tick_marks, classNames, rotation=45)\n",
    "    plt.yticks(tick_marks, classNames)\n",
    "    s = [['TN','FP'], ['FN', 'TP']]\n",
    "  \n",
    "    for i in range(2):\n",
    "        for j in range(2):\n",
    "            plt.text(j,i, str(s[i][j])+\" = \"+str(cm[i][j]))\n",
    "plt.show()"
   ]
  },
  {
   "cell_type": "code",
   "execution_count": 117,
   "metadata": {},
   "outputs": [],
   "source": [
    "import seaborn as sns\n",
    "sns.set()"
   ]
  },
  {
   "cell_type": "code",
   "execution_count": 119,
   "metadata": {},
   "outputs": [
    {
     "data": {
      "text/plain": [
       "Text(0.5, 12.5, 'Predicted label')"
      ]
     },
     "execution_count": 119,
     "metadata": {},
     "output_type": "execute_result"
    },
    {
     "data": {
      "image/png": "[encoded data removed]",
      "text/plain": [
       "<Figure size 432x288 with 2 Axes>"
      ]
     },
     "metadata": {},
     "output_type": "display_data"
    }
   ],
   "source": [
    "##PrefixSpan\n",
    "cnf_matrix = metrics.confusion_matrix(y_test1, y_pred1)\n",
    "p = sns.heatmap(pd.DataFrame(cnf_matrix), annot=True, cmap=\"YlGnBu\" ,fmt='g')\n",
    "plt.title('Confusion matrix', y=1.1)\n",
    "plt.ylabel('Actual label')\n",
    "plt.xlabel('Predicted label')"
   ]
  },
  {
   "cell_type": "code",
   "execution_count": 120,
   "metadata": {},
   "outputs": [
    {
     "data": {
      "text/plain": [
       "Text(0.5, 12.5, 'Predicted label')"
      ]
     },
     "execution_count": 120,
     "metadata": {},
     "output_type": "execute_result"
    },
    {
     "data": {
      "image/png": "[encoded data removed]",
      "text/plain": [
       "<Figure size 432x288 with 2 Axes>"
      ]
     },
     "metadata": {},
     "output_type": "display_data"
    }
   ],
   "source": [
    "##ClaSp\n",
    "cnf_matrix = metrics.confusion_matrix(y_test2, y_pred2)\n",
    "p = sns.heatmap(pd.DataFrame(cnf_matrix), annot=True, cmap=\"YlGnBu\" ,fmt='g')\n",
    "plt.title('Confusion matrix', y=1.1)\n",
    "plt.ylabel('Actual label')\n",
    "plt.xlabel('Predicted label')"
   ]
  },
  {
   "cell_type": "code",
   "execution_count": 121,
   "metadata": {},
   "outputs": [
    {
     "data": {
      "text/plain": [
       "Text(0.5, 12.5, 'Predicted label')"
      ]
     },
     "execution_count": 121,
     "metadata": {},
     "output_type": "execute_result"
    },
    {
     "data": {
      "image/png": "[encoded data removed]",
      "text/plain": [
       "<Figure size 432x288 with 2 Axes>"
      ]
     },
     "metadata": {},
     "output_type": "display_data"
    }
   ],
   "source": [
    "##VMSP\n",
    "cnf_matrix = metrics.confusion_matrix(y_test3, y_pred3)\n",
    "p = sns.heatmap(pd.DataFrame(cnf_matrix), annot=True, cmap=\"YlGnBu\" ,fmt='g')\n",
    "plt.title('Confusion matrix', y=1.1)\n",
    "plt.ylabel('Actual label')\n",
    "plt.xlabel('Predicted label')"
   ]
  }
 ],
 "metadata": {
  "kernelspec": {
   "display_name": "Python 3",
   "language": "python",
   "name": "python3"
  },
  "language_info": {
   "codemirror_mode": {
    "name": "ipython",
    "version": 3
   },
   "file_extension": ".py",
   "mimetype": "text/x-python",
   "name": "python",
   "nbconvert_exporter": "python",
   "pygments_lexer": "ipython3",
   "version": "3.8.5"
  }
 },
 "nbformat": 4,
 "nbformat_minor": 4
}
