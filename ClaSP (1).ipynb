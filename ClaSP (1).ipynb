{
 "cells": [
  {
   "cell_type": "code",
   "execution_count": 2,
   "metadata": {},
   "outputs": [
    {
     "name": "stdout",
     "output_type": "stream",
     "text": [
      "Note: you may need to restart the kernel to use updated packages.\n"
     ]
    },
    {
     "name": "stderr",
     "output_type": "stream",
     "text": [
      "ERROR: Could not find a version that satisfies the requirement spmf-py (from versions: none)\n",
      "ERROR: No matching distribution found for spmf-py\n"
     ]
    }
   ],
   "source": [
    "pip install spmf-py"
   ]
  },
  {
   "cell_type": "code",
   "execution_count": 1,
   "metadata": {},
   "outputs": [
    {
     "name": "stdout",
     "output_type": "stream",
     "text": [
      ">/C:/Users/robin/Documents/Master DSS/Afstuderen/spmf/spmf.jar\r\n",
      "=============  Algorithm - STATISTICS =============\n",
      " Total time ~ 467 ms\n",
      " Frequent closed sequences count : 14\n",
      " Join count : 23\n",
      " Max memory (mb):534.6393280029297\n",
      "===================================================\r\n",
      "\n",
      "               pattern     sup\n",
      "0                  [2]  488360\n",
      "1   [2, 2, 2, 2, 2, 2]   13149\n",
      "2            [2, 2, 2]   54301\n",
      "3               [0, 2]   21160\n",
      "4            [2, 0, 2]   21135\n",
      "5               [2, 0]   41232\n",
      "6         [2, 2, 2, 2]   30136\n",
      "7      [2, 2, 2, 2, 2]   19151\n",
      "8            [0, 2, 2]   10909\n",
      "9               [2, 2]  125161\n",
      "10        [2, 2, 0, 2]   10363\n",
      "11        [2, 0, 2, 2]   10899\n",
      "12                 [0]   41270\n",
      "13           [2, 2, 0]   17537\n"
     ]
    }
   ],
   "source": [
    "from spmf import Spmf\n",
    "\n",
    "spmf = Spmf(\"ClaSP\", input_filename= 'sequences.txt',\n",
    "            output_filename=\"output.txt\", spmf_bin_location_dir='C:/Users/robin/Documents/Master DSS/Afstuderen/spmf', arguments=[0.02, True])\n",
    "spmf.run()\n",
    "print(spmf.to_pandas_dataframe(pickle=True))\n",
    "spmf.to_csv(\"output_clasp.csv\")"
   ]
  }
 ],
 "metadata": {
  "kernelspec": {
   "display_name": "Python 3",
   "language": "python",
   "name": "python3"
  },
  "language_info": {
   "codemirror_mode": {
    "name": "ipython",
    "version": 3
   },
   "file_extension": ".py",
   "mimetype": "text/x-python",
   "name": "python",
   "nbconvert_exporter": "python",
   "pygments_lexer": "ipython3",
   "version": "3.8.5"
  }
 },
 "nbformat": 4,
 "nbformat_minor": 4
}
